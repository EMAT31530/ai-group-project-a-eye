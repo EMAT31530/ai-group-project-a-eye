{
 "cells": [
  {
   "cell_type": "code",
   "execution_count": 1,
   "metadata": {},
   "outputs": [],
   "source": [
    "import glob\n",
    "import os\n",
    "import tensorflow as tf\n",
    "import pandas as pd\n",
    "import numpy as np\n",
    "from sklearn.utils import shuffle"
   ]
  },
  {
   "cell_type": "code",
   "execution_count": 2,
   "metadata": {},
   "outputs": [],
   "source": [
    "df = pd.read_csv(\"data.csv\")"
   ]
  },
  {
   "cell_type": "code",
   "execution_count": 3,
   "metadata": {},
   "outputs": [
    {
     "data": {
      "text/plain": [
       "<bound method NDFrame.head of            a1    b1    c1    d1    e1    f1 g1    h1 a2    b2  ... to_h7  \\\n",
       "0           R     N     B     Q     K     B  N     R  P     P  ...     0   \n",
       "1           R     N     B     Q     K     B  N     R  P     P  ...     0   \n",
       "2           R     N     B     Q     K     B  N     R  P     P  ...     0   \n",
       "3           R     N     B     Q     K     B  N     R  P     P  ...     0   \n",
       "4           R     N     B     Q     K     B  N     R  P     P  ...     0   \n",
       "...       ...   ...   ...   ...   ...   ... ..   ... ..   ...  ...   ...   \n",
       "1685519  None  None  None  None  None  None  K  None  P  None  ...     0   \n",
       "1685520  None  None  None  None  None  None  K  None  P  None  ...     0   \n",
       "1685521  None  None  None  None  None  None  K  None  P  None  ...     0   \n",
       "1685522  None  None  None  None  None  None  K  None  P  None  ...     0   \n",
       "1685523  None  None  None  None  None  None  K  None  P  None  ...     0   \n",
       "\n",
       "        to_a8 to_b8 to_c8 to_d8 to_e8 to_f8 to_g8 to_h8 good_move  \n",
       "0           0     0     0     0     0     0     0     0         0  \n",
       "1           0     0     0     0     0     0     0     0         0  \n",
       "2           0     0     0     0     0     0     0     0         0  \n",
       "3           0     0     0     0     0     0     0     0         0  \n",
       "4           0     0     0     0     0     0     0     0         0  \n",
       "...       ...   ...   ...   ...   ...   ...   ...   ...       ...  \n",
       "1685519     0     0     0     0     0     0     0     0         0  \n",
       "1685520     0     0     0     0     0     0     0     0         0  \n",
       "1685521     0     0     0     0     0     0     0     0         0  \n",
       "1685522     0     0     0     0     0     0     0     0         0  \n",
       "1685523     1     0     0     0     0     0     0     0         1  \n",
       "\n",
       "[1685524 rows x 193 columns]>"
      ]
     },
     "execution_count": 3,
     "metadata": {},
     "output_type": "execute_result"
    }
   ],
   "source": [
    "df.head"
   ]
  },
  {
   "cell_type": "code",
   "execution_count": 4,
   "metadata": {},
   "outputs": [],
   "source": [
    "df = shuffle(df)"
   ]
  },
  {
   "cell_type": "code",
   "execution_count": 359,
   "metadata": {},
   "outputs": [],
   "source": [
    "df = train[:100]"
   ]
  },
  {
   "cell_type": "code",
   "execution_count": 360,
   "metadata": {},
   "outputs": [],
   "source": [
    "from sklearn.model_selection import train_test_split\n",
    "train, test, = train_test_split(df, test_size=0.2,)"
   ]
  },
  {
   "cell_type": "code",
   "execution_count": 361,
   "metadata": {},
   "outputs": [],
   "source": [
    "features = list(train.iloc[:, 0:192].columns)"
   ]
  },
  {
   "cell_type": "code",
   "execution_count": 362,
   "metadata": {},
   "outputs": [],
   "source": [
    "X = train[features]\n",
    "y = train['good_move']"
   ]
  },
  {
   "cell_type": "code",
   "execution_count": 363,
   "metadata": {},
   "outputs": [],
   "source": [
    "categorical_columns = list(X.iloc[:, 0:63].columns)\n",
    "numerical_columns = list(X.iloc[:, 64:192].columns)\n",
    "feature_columns = []\n",
    "\n",
    "for feature_name in categorical_columns:\n",
    "    vocabulary = X[feature_name].unique()\n",
    "    feature_columns.append(tf.feature_column.categorical_column_with_vocabulary_list(feature_name, vocabulary))\n",
    "\n",
    "\n",
    "for feature_name in numerical_columns:\n",
    "    feature_columns.append(tf.feature_column.numeric_column(feature_name,dtype = tf.float32))"
   ]
  },
  {
   "cell_type": "code",
   "execution_count": 364,
   "metadata": {},
   "outputs": [],
   "source": [
    "def make_input_fn(data_df, label_df, num_epochs = 10, shuffle = True, batch_size = 32):\n",
    "    def input_function():\n",
    "        ds = tf.data.Dataset.from_tensor_slices((dict(data_df), label_df))\n",
    "        if shuffle:\n",
    "            ds = ds.shuffle(1000)\n",
    "        ds = ds.batch(batch_size).repeat(num_epochs)\n",
    "        return ds\n",
    "    return input_function"
   ]
  },
  {
   "cell_type": "code",
   "execution_count": 365,
   "metadata": {},
   "outputs": [],
   "source": [
    "def split_into_batches(df, batch_size=200000):\n",
    "    nb_rows = len(df.index)\n",
    "    intervals = []\n",
    "    \n",
    "    for i in range(0, nb_rows + 1, batch_size):\n",
    "        intervals.append(i)\n",
    "  \n",
    "    if(intervals[-1] != nb_rows):\n",
    "        intervals.append(nb_rows)\n",
    "  \n",
    "    batches_X = []\n",
    "    batches_y = []\n",
    "  \n",
    "    for i in range(0, len(intervals) - 1):\n",
    "        batches_X.append(df.iloc[intervals[i]:intervals[i + 1], :][features])\n",
    "        batches_y.append(df.iloc[intervals[i]:intervals[i + 1], :]['good_move'])\n",
    "\n",
    "    return batches_X, batches_y"
   ]
  },
  {
   "cell_type": "code",
   "execution_count": 366,
   "metadata": {},
   "outputs": [],
   "source": [
    "batches_X, batches_y = split_into_batches(train)"
   ]
  },
  {
   "cell_type": "code",
   "execution_count": 367,
   "metadata": {},
   "outputs": [],
   "source": [
    "xval, yval = split_into_batches(test)"
   ]
  },
  {
   "cell_type": "code",
   "execution_count": 368,
   "metadata": {},
   "outputs": [
    {
     "data": {
      "text/plain": [
       "80"
      ]
     },
     "execution_count": 368,
     "metadata": {},
     "output_type": "execute_result"
    }
   ],
   "source": [
    "len(train)"
   ]
  },
  {
   "cell_type": "code",
   "execution_count": 369,
   "metadata": {},
   "outputs": [
    {
     "name": "stdout",
     "output_type": "stream",
     "text": [
      "INFO:tensorflow:Using default config.\n",
      "INFO:tensorflow:Using config: {'_model_dir': 'model20', '_tf_random_seed': None, '_save_summary_steps': 100, '_save_checkpoints_steps': None, '_save_checkpoints_secs': 600, '_session_config': allow_soft_placement: true\n",
      "graph_options {\n",
      "  rewrite_options {\n",
      "    meta_optimizer_iterations: ONE\n",
      "  }\n",
      "}\n",
      ", '_keep_checkpoint_max': 5, '_keep_checkpoint_every_n_hours': 10000, '_log_step_count_steps': 100, '_train_distribute': None, '_device_fn': None, '_protocol': None, '_eval_distribute': None, '_experimental_distribute': None, '_experimental_max_worker_delay_secs': None, '_session_creation_timeout_secs': 7200, '_checkpoint_save_graph_def': True, '_service': None, '_cluster_spec': ClusterSpec({}), '_task_type': 'worker', '_task_id': 0, '_global_id_in_cluster': 0, '_master': '', '_evaluation_master': '', '_is_chief': True, '_num_ps_replicas': 0, '_num_worker_replicas': 1}\n"
     ]
    }
   ],
   "source": [
    "##initialize a classifier\n",
    "linear_est = tf.estimator.LinearClassifier(feature_columns = feature_columns, model_dir='model20')\n"
   ]
  },
  {
   "cell_type": "code",
   "execution_count": 370,
   "metadata": {},
   "outputs": [
    {
     "name": "stdout",
     "output_type": "stream",
     "text": [
      "           a1    b1    c1    d1    e1    f1    g1    h1    a2    b2  ...  \\\n",
      "153873   None     B  None  None     R  None     K  None  None     P  ...   \n",
      "582826   None  None  None  None  None  None  None  None     q  None  ...   \n",
      "716292   None  None  None  None  None     K  None  None     P  None  ...   \n",
      "1423508     R     N     B     Q     K     B  None     R     P     P  ...   \n",
      "829625      R  None     B  None  None  None  None     K     P     P  ...   \n",
      "...       ...   ...   ...   ...   ...   ...   ...   ...   ...   ...  ...   \n",
      "929511      R  None  None  None     R     B     K  None  None  None  ...   \n",
      "203203      R     N     B     Q     K     B     N     R     P     P  ...   \n",
      "718611      R     N     B     Q     K     B  None     R     P     P  ...   \n",
      "910872   None  None     K     R  None  None     R  None  None     P  ...   \n",
      "1657174     R     N     B     Q     K     B  None     R     P     P  ...   \n",
      "\n",
      "        to_g7 to_h7 to_a8 to_b8 to_c8 to_d8 to_e8 to_f8 to_g8 to_h8  \n",
      "153873      0     0     0     0     0     0     0     0     0     0  \n",
      "582826      0     0     0     0     0     0     0     0     0     0  \n",
      "716292      0     0     0     0     0     0     0     0     0     0  \n",
      "1423508     0     0     0     0     0     0     0     0     0     0  \n",
      "829625      0     0     0     0     0     0     0     0     0     0  \n",
      "...       ...   ...   ...   ...   ...   ...   ...   ...   ...   ...  \n",
      "929511      0     0     0     0     0     0     0     0     0     0  \n",
      "203203      0     0     0     0     0     0     0     0     0     0  \n",
      "718611      0     0     0     0     0     0     0     0     0     0  \n",
      "910872      0     0     0     0     0     0     0     0     0     0  \n",
      "1657174     0     0     0     0     0     0     0     0     0     0  \n",
      "\n",
      "[80 rows x 192 columns]\n",
      "<class 'pandas.core.frame.DataFrame'>\n"
     ]
    }
   ],
   "source": [
    "input_functions = []\n",
    "for df_X, df_y in zip(batches_X, batches_y):\n",
    "    print(df_X)\n",
    "    print(type(df_X))\n",
    "    input_functions.append(make_input_fn(df_X, df_y))"
   ]
  },
  {
   "cell_type": "code",
   "execution_count": 371,
   "metadata": {},
   "outputs": [
    {
     "data": {
      "text/plain": [
       "pandas.core.frame.DataFrame"
      ]
     },
     "execution_count": 371,
     "metadata": {},
     "output_type": "execute_result"
    }
   ],
   "source": [
    "type(xval[0])"
   ]
  },
  {
   "cell_type": "code",
   "execution_count": 372,
   "metadata": {},
   "outputs": [
    {
     "data": {
      "text/plain": [
       "list"
      ]
     },
     "execution_count": 372,
     "metadata": {},
     "output_type": "execute_result"
    }
   ],
   "source": [
    "type(batches_X)"
   ]
  },
  {
   "cell_type": "code",
   "execution_count": 373,
   "metadata": {
    "scrolled": true
   },
   "outputs": [
    {
     "name": "stdout",
     "output_type": "stream",
     "text": [
      "<======================================== NEW BATCH ========================================>\n",
      "Batch: 1\n",
      "INFO:tensorflow:Calling model_fn.\n",
      "INFO:tensorflow:Done calling model_fn.\n",
      "INFO:tensorflow:Create CheckpointSaverHook.\n",
      "INFO:tensorflow:Graph was finalized.\n",
      "INFO:tensorflow:Running local_init_op.\n",
      "INFO:tensorflow:Done running local_init_op.\n",
      "INFO:tensorflow:Calling checkpoint listeners before saving checkpoint 0...\n",
      "INFO:tensorflow:Saving checkpoints for 0 into model20/model.ckpt.\n",
      "INFO:tensorflow:Calling checkpoint listeners after saving checkpoint 0...\n",
      "INFO:tensorflow:loss = 0.6931472, step = 0\n",
      "INFO:tensorflow:Calling checkpoint listeners before saving checkpoint 30...\n",
      "INFO:tensorflow:Saving checkpoints for 30 into model20/model.ckpt.\n",
      "INFO:tensorflow:Calling checkpoint listeners after saving checkpoint 30...\n",
      "INFO:tensorflow:Loss for final step: 0.08498185.\n"
     ]
    }
   ],
   "source": [
    "# train the model on all the input functions\n",
    "i = 1\n",
    "for input_function in input_functions:\n",
    "    print('<======================================== NEW BATCH ========================================>')\n",
    "    print('Batch: ' + str(i))\n",
    "    i = i + 1\n",
    "    linear_est.train(input_function)\n",
    "  \n",
    " # save the model\n",
    "serving_input_fn = tf.estimator.export.build_parsing_serving_input_receiver_fn(\n",
    "  tf.feature_column.make_parse_example_spec(feature_columns))\n",
    "\n"
   ]
  },
  {
   "cell_type": "code",
   "execution_count": 374,
   "metadata": {},
   "outputs": [
    {
     "name": "stdout",
     "output_type": "stream",
     "text": [
      "INFO:tensorflow:Calling model_fn.\n",
      "INFO:tensorflow:Done calling model_fn.\n",
      "INFO:tensorflow:Signatures INCLUDED in export for Classify: ['serving_default', 'classification']\n",
      "INFO:tensorflow:Signatures INCLUDED in export for Regress: ['regression']\n",
      "INFO:tensorflow:Signatures INCLUDED in export for Predict: ['predict']\n",
      "INFO:tensorflow:Signatures INCLUDED in export for Train: None\n",
      "INFO:tensorflow:Signatures INCLUDED in export for Eval: None\n",
      "INFO:tensorflow:Restoring parameters from model20/model.ckpt-30\n",
      "INFO:tensorflow:Assets added to graph.\n",
      "INFO:tensorflow:No assets to write.\n",
      "INFO:tensorflow:SavedModel written to: model20/temp-1619974610/saved_model.pb\n"
     ]
    }
   ],
   "source": [
    "estimator_base_path = 'model20'\n",
    "estimator_path = linear_est.export_saved_model(estimator_base_path, serving_input_fn)"
   ]
  },
  {
   "cell_type": "code",
   "execution_count": 375,
   "metadata": {},
   "outputs": [],
   "source": [
    "## validation"
   ]
  },
  {
   "cell_type": "code",
   "execution_count": 376,
   "metadata": {},
   "outputs": [],
   "source": [
    "eval_input_fn = make_input_fn(xval[0], yval[0])"
   ]
  },
  {
   "cell_type": "code",
   "execution_count": 377,
   "metadata": {},
   "outputs": [
    {
     "name": "stdout",
     "output_type": "stream",
     "text": [
      "INFO:tensorflow:Calling model_fn.\n",
      "INFO:tensorflow:Done calling model_fn.\n",
      "INFO:tensorflow:Starting evaluation at 2021-05-03T00:57:05Z\n",
      "INFO:tensorflow:Graph was finalized.\n",
      "INFO:tensorflow:Restoring parameters from model20/model.ckpt-30\n",
      "INFO:tensorflow:Running local_init_op.\n",
      "INFO:tensorflow:Done running local_init_op.\n",
      "INFO:tensorflow:Inference Time : 3.76227s\n",
      "INFO:tensorflow:Finished evaluation at 2021-05-03-00:57:08\n",
      "INFO:tensorflow:Saving dict for global step 30: accuracy = 1.0, accuracy_baseline = 1.0, auc = 0.0, auc_precision_recall = 0.0, average_loss = 0.01188066, global_step = 30, label/mean = 0.0, loss = 0.01188066, precision = 0.0, prediction/mean = 0.0117549375, recall = 0.0\n",
      "INFO:tensorflow:Saving 'checkpoint_path' summary for global step 30: model20/model.ckpt-30\n"
     ]
    }
   ],
   "source": [
    "result = linear_est.evaluate(eval_input_fn)"
   ]
  },
  {
   "cell_type": "code",
   "execution_count": null,
   "metadata": {},
   "outputs": [],
   "source": []
  },
  {
   "cell_type": "code",
   "execution_count": null,
   "metadata": {},
   "outputs": [],
   "source": []
  }
 ],
 "metadata": {
  "kernelspec": {
   "display_name": "Python 3",
   "language": "python",
   "name": "python3"
  },
  "language_info": {
   "codemirror_mode": {
    "name": "ipython",
    "version": 3
   },
   "file_extension": ".py",
   "mimetype": "text/x-python",
   "name": "python",
   "nbconvert_exporter": "python",
   "pygments_lexer": "ipython3",
   "version": "3.7.4"
  }
 },
 "nbformat": 4,
 "nbformat_minor": 5
}
