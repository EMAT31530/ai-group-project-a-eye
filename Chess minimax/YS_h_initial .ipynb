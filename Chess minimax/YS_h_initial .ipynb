{
 "cells": [
  {
   "cell_type": "code",
   "execution_count": 1,
   "metadata": {},
   "outputs": [],
   "source": [
    "import chess"
   ]
  },
  {
   "cell_type": "code",
   "execution_count": 2,
   "metadata": {},
   "outputs": [],
   "source": [
    "##evaluation function  ##if piece.color =True, piece is white, otherwise black\n",
    "##piece_type: pawn:1, knight:2, bishop:3, rook:4,queen:5,king:6\n",
    "def get_piece_value(piece):\n",
    "    if piece.color:\n",
    "        color_factor = 1;\n",
    "    else:\n",
    "        color_factor = -1;\n",
    "    if piece.piece_type == 1:\n",
    "        return 1.0 * color_factor\n",
    "    elif piece.piece_type == 2:\n",
    "        return 3.0 * color_factor\n",
    "    elif piece.piece_type == 3:\n",
    "        return 3.0 * color_factor\n",
    "    elif piece.piece_type == 4:\n",
    "        return 5.0 * color_factor\n",
    "    elif piece.piece_type == 5:\n",
    "        return 9.0 * color_factor\n",
    "    elif piece.piece_type == 6:\n",
    "        return 0 * color_factor"
   ]
  },
  {
   "cell_type": "code",
   "execution_count": 3,
   "metadata": {},
   "outputs": [],
   "source": [
    "def materials(board,weight):\n",
    "        scores = 0.0\n",
    "        for i in range(8):\n",
    "            for j in range(8):\n",
    "                if board.piece_at(chess.square(i,j)):\n",
    "                    piece = board.piece_at(chess.square(i,j))\n",
    "                    scores += get_piece_value(piece)\n",
    "        return scores*weight"
   ]
  },
  {
   "cell_type": "code",
   "execution_count": 4,
   "metadata": {},
   "outputs": [],
   "source": [
    "def get_square_at_position(position):\n",
    "    \"\"\"\n",
    "    Square position sanitizer for when either a string\n",
    "    or chess.Square can be entered as a position\n",
    "    Args:\n",
    "        position( Union[str, chess.Square])\n",
    "    Returns:\n",
    "        (chess.Square)\n",
    "    \"\"\"\n",
    "    # Convert from string to chess.square via characters in string\n",
    "    if isinstance(position, str):\n",
    "        file, rank = ord(position[0].lower()) - 97, int(position[1]) - 1\n",
    "        square = chess.square(file, rank)\n",
    "    elif isinstance(position, chess.Square):\n",
    "        square = position\n",
    "\n",
    "    return square"
   ]
  },
  {
   "cell_type": "code",
   "execution_count": 5,
   "metadata": {},
   "outputs": [],
   "source": [
    "def get_piece_at(\n",
    "    board: chess.Board, position):\n",
    "    \"\"\"\n",
    "    Gets chess symbol of piece at position on board\n",
    "    Args:\n",
    "        board (chess.Board): current board state in python-chess object\n",
    "        position (str/chess.Square): position of square i.e chess.A1 or \"A1\"\n",
    "    Returns:\n",
    "        (str): symbol of piece at square if any\n",
    "    \"\"\"\n",
    "    # Convert position to chess.Square\n",
    "    square = get_square_at_position(position)\n",
    "    piece = board.piece_at(square)\n",
    "\n",
    "    if piece:\n",
    "        return piece.symbol()\n",
    "    return \"\""
   ]
  },
  {
   "cell_type": "code",
   "execution_count": 6,
   "metadata": {},
   "outputs": [],
   "source": [
    "def piece_moves(board, weight):\n",
    "    scores = 0\n",
    "    square_values = {\"e4\": 1, \"e5\": 1, \"d4\": 1, \"d5\": 1, \"c6\": 0.5, \"d6\": 0.5, \"e6\": 0.5, \"f6\": 0.5,\n",
    "                    \"c3\": 0.5, \"d3\": 0.5, \"e3\": 0.5, \"f3\": 0.5, \"c4\": 0.5, \"c5\": 0.5, \"f4\": 0.5, \"f5\": 0.5}\n",
    "    possible_moves =board.legal_moves\n",
    "    for move in possible_moves:\n",
    "        if board.turn:\n",
    "            if str(move)[2:4] in square_values:\n",
    "                scores += square_values[str(move)[2:4]]\n",
    "        else:\n",
    "            if str(move)[2:4] in square_values:\n",
    "                scores -= square_values[str(move)[2:4]]\n",
    "    return scores * weight"
   ]
  },
  {
   "cell_type": "code",
   "execution_count": 7,
   "metadata": {},
   "outputs": [],
   "source": [
    "def in_check(board, weight):\n",
    "    scores = 0 \n",
    "    # Turn should be 'w' or 'b'\n",
    "    # Check or Checkmate situations\n",
    "    if board.turn == \"w\":\n",
    "        if board.is_checkmate():\n",
    "            scores -= 9999.0\n",
    "        elif  board.is_check():\n",
    "            scores -= weight\n",
    "    else:\n",
    "        if board.is_checkmate():\n",
    "            scores += 9999.0\n",
    "        elif board.is_check():\n",
    "            scores += weight\n",
    "    return scores"
   ]
  },
  {
   "cell_type": "code",
   "execution_count": 8,
   "metadata": {},
   "outputs": [],
   "source": [
    "#pawn:1, knight:2, bishop:3, rook:4,queen:5,king:6\n",
    "\n",
    "def MVV_LVA(board):\n",
    "    piece_values = {\"P\":1,\"N\":3,\"B\":3,\"R\":5,\"Q\":9,\"K\":25}\n",
    "    available_captures = {}#: Dict[int,List[chess.Move]]\n",
    "    move_list = list(board.legal_moves)\n",
    "    # For each move, evaluate if any captures. If so, rank captures based\n",
    "    # off value gained\n",
    "    for move in move_list:\n",
    "        if board.is_capture(move):\n",
    "            aggressor_piece = get_piece_at(board, str(move)[:2]).upper()\n",
    "            victim_piece = get_piece_at(board, str(move)[2:]).upper()\n",
    "            if aggressor_piece and victim_piece:\n",
    "                value_diff = (\n",
    "                    piece_value[victim_piece].value\n",
    "                    - piece_value[aggressor_piece].value\n",
    "                )\n",
    "                available_captures[value_diff] = move\n",
    "\n",
    "    # If any available captures, sort captures by value_diff of captures\n",
    "    # and return list of sorted captures\n",
    "    if available_captures:\n",
    "        move_list_sorted = []\n",
    "        for val_diff in sorted(available_captures, reverse=True):\n",
    "            move_list_sorted.append(available_captures[val_diff])\n",
    "        return move_list_sorted\n",
    "\n",
    "    # If no captures, return shuffled list of all legal moves\n",
    "    random.shuffle(move_list)\n",
    "    return move_list"
   ]
  },
  {
   "cell_type": "code",
   "execution_count": null,
   "metadata": {},
   "outputs": [],
   "source": []
  }
 ],
 "metadata": {
  "kernelspec": {
   "display_name": "Python 3",
   "language": "python",
   "name": "python3"
  },
  "language_info": {
   "codemirror_mode": {
    "name": "ipython",
    "version": 3
   },
   "file_extension": ".py",
   "mimetype": "text/x-python",
   "name": "python",
   "nbconvert_exporter": "python",
   "pygments_lexer": "ipython3",
   "version": "3.8.3"
  }
 },
 "nbformat": 4,
 "nbformat_minor": 4
}
